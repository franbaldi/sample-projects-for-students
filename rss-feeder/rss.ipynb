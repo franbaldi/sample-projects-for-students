{
 "cells": [
  {
   "cell_type": "code",
   "execution_count": 1,
   "metadata": {},
   "outputs": [
    {
     "name": "stdout",
     "output_type": "stream",
     "text": [
      "{'feed': {'tags': [{'term': 'movies', 'scheme': None, 'label': 'r/movies'}], 'updated': '2019-06-28T17:06:13+00:00', 'updated_parsed': time.struct_time(tm_year=2019, tm_mon=6, tm_mday=28, tm_hour=17, tm_min=6, tm_sec=13, tm_wday=4, tm_yday=179, tm_isdst=0), 'icon': 'https://www.redditstatic.com/icon.png/', 'id': 'https://www.reddit.com/r/movies/new.rss', 'guidislink': True, 'link': 'https://www.reddit.com/r/movies/new', 'links': [{'rel': 'self', 'href': 'https://www.reddit.com/r/movies/new.rss', 'type': 'application/atom+xml'}, {'rel': 'alternate', 'href': 'https://www.reddit.com/r/movies/new', 'type': 'text/html'}], 'logo': 'https://b.thumbs.redditmedia.com/86fsvFSWKE7feM8yhBOjLAtwj20x5c4ofwcXQWwy1iM.png', 'subtitle': 'News & Discussion about Major Motion Pictures', 'subtitle_detail': {'type': 'text/plain', 'language': None, 'base': 'https://www.reddit.com/r/movies/new.rss', 'value': 'News & Discussion about Major Motion Pictures'}, 'title': 'newest submissions : movies', 'title_detail': {'type': 'text/plain', 'language': None, 'base': 'https://www.reddit.com/r/movies/new.rss', 'value': 'newest submissions : movies'}}, 'entries': [{'authors': [{'name': '/u/DetectiveGaming', 'href': 'https://www.reddit.com/user/DetectiveGaming'}], 'author_detail': {'name': '/u/DetectiveGaming', 'href': 'https://www.reddit.com/user/DetectiveGaming'}, 'href': 'https://www.reddit.com/user/DetectiveGaming', 'author': '/u/DetectiveGaming', 'tags': [{'term': 'movies', 'scheme': None, 'label': 'r/movies'}], 'content': [{'type': 'text/html', 'language': None, 'base': 'https://www.reddit.com/r/movies/new.rss', 'value': '<table> <tr><td> <a href=\"https://www.reddit.com/r/movies/comments/c6mqkd/imdb_lists_transgender_stars_birth_names/\"> <img src=\"https://b.thumbs.redditmedia.com/iGOXZGRr4iZgFycAhvqaua-I5Eub8j8TcQ3yuRuADtc.jpg\" alt=\"IMDb Lists Transgender Stars’ Birth Names; Hollywood Coalition Protests\" title=\"IMDb Lists Transgender Stars’ Birth Names; Hollywood Coalition Protests\" /> </a> </\n"
     ]
    }
   ],
   "source": [
    "import feedparser\n",
    "\n",
    "# Import post data from Reddit's RSS\n",
    "reddit = feedparser.parse('https://www.reddit.com/r/movies/new.rss')\n",
    "# Print first 2000 characters\n",
    "print(str(reddit)[0:2000])"
   ]
  },
  {
   "cell_type": "code",
   "execution_count": 2,
   "metadata": {},
   "outputs": [
    {
     "name": "stdout",
     "output_type": "stream",
     "text": [
      "Number of RSS posts : 25\n",
      "dict_keys(['authors', 'author_detail', 'href', 'author', 'tags', 'content', 'summary', 'id', 'guidislink', 'link', 'links', 'updated', 'updated_parsed', 'title', 'title_detail'])\n"
     ]
    }
   ],
   "source": [
    "import datetime\n",
    "from datetime import timedelta\n",
    "\n",
    "print ('Number of RSS posts :', len(reddit.entries))\n",
    "\n",
    "# Print all columns in the dataset\n",
    "entry = reddit.entries[1]\n",
    "print (entry.keys())"
   ]
  },
  {
   "cell_type": "code",
   "execution_count": 3,
   "metadata": {},
   "outputs": [
    {
     "data": {
      "text/plain": [
       "[['IMDb Lists Transgender Stars’ Birth Names; Hollywood Coalition Protests',\n",
       "  datetime.datetime(2019, 6, 28, 13, 6, 12),\n",
       "  'https://www.reddit.com/r/movies/comments/c6mqkd/imdb_lists_transgender_stars_birth_names/',\n",
       "  'REDDIT'],\n",
       " [\"What's a bad movie with one really great joke or scene?\",\n",
       "  datetime.datetime(2019, 6, 28, 13, 2, 45),\n",
       "  'https://www.reddit.com/r/movies/comments/c6mp00/whats_a_bad_movie_with_one_really_great_joke_or/',\n",
       "  'REDDIT'],\n",
       " [\"'Four Lions' Actor Adeel Akhtar in Mystery-Drama 'Enola Holmes' - Joining Millie Bobby Brown, Henry Cavill, and Helena Bonham Carter\",\n",
       "  datetime.datetime(2019, 6, 28, 12, 58, 4),\n",
       "  'https://www.reddit.com/r/movies/comments/c6mmxf/four_lions_actor_adeel_akhtar_in_mysterydrama/',\n",
       "  'REDDIT'],\n",
       " ['Bowfinger (1999)',\n",
       "  datetime.datetime(2019, 6, 28, 12, 57, 24),\n",
       "  'https://www.reddit.com/r/movies/comments/c6mmm1/bowfinger_1999/',\n",
       "  'REDDIT']]"
      ]
     },
     "execution_count": 3,
     "metadata": {},
     "output_type": "execute_result"
    }
   ],
   "source": [
    "# Extract needed post data from the dataset\n",
    "data = []\n",
    "for i in range(len(reddit.entries)):\n",
    "    # Use datetime to convert time string to time_struct\n",
    "    pattern = \"%Y-%m-%dT%H:%M:%S\"\n",
    "    time_posted = datetime.datetime.strptime(reddit.entries[i].updated.split('+')[0], pattern)\n",
    "    time_posted = time_posted + timedelta(hours=-4) #offset for local time (EST)\n",
    "    data.append([reddit.entries[i].title, time_posted, reddit.entries[i].link, \"REDDIT\"])\n",
    "# Print first 5 entries\n",
    "data[0:4]"
   ]
  },
  {
   "cell_type": "code",
   "execution_count": 4,
   "metadata": {},
   "outputs": [
    {
     "name": "stdout",
     "output_type": "stream",
     "text": [
      "{'feed': {'title': 'Hacker News: Newest', 'title_detail': {'type': 'text/plain', 'language': None, 'base': 'https://hnrss.org/newest', 'value': 'Hacker News: Newest'}, 'links': [{'rel': 'alternate', 'type': 'text/html', 'href': 'https://news.ycombinator.com/newest'}, {'href': 'https://hnrss.org/newest', 'rel': 'self', 'type': 'application/rss+xml'}], 'link': 'https://news.ycombinator.com/newest', 'subtitle': 'Hacker News RSS', 'subtitle_detail': {'type': 'text/html', 'language': None, 'base': 'https://hnrss.org/newest', 'value': 'Hacker News RSS'}, 'docs': 'https://hnrss.org/', 'generator_detail': {'name': 'go-hnrss v1.0-10-g4f1b850'}, 'generator': 'go-hnrss v1.0-10-g4f1b850', 'updated': 'Fri, 28 Jun 2019 16:45:11 +0000', 'updated_parsed': time.struct_time(tm_year=2019, tm_mon=6, tm_mday=28, tm_hour=16, tm_min=45, tm_sec=11, tm_wday=4, tm_yday=179, tm_isdst=0)}, 'entries': [{'title': 'Waxosuit: A secure cloud native exosuit for WASM', 'title_detail': {'type': 'text/plain', 'language': None, 'base': 'https://hnrss.org/newest', 'value': 'Waxosuit: A secure cloud native exosuit for WASM'}, 'summary': '<p>Article URL: <a href=\"https://medium.com/@KevinHoffman/introducing-waxosuit-6ad754b48ed9\">https://medium.com/@KevinHoffman/introducing-waxosuit-6ad754b48ed9</a></p>\\n<p>Comments URL: <a href=\"https://news.ycombinator.com/item?id=20306195\">https://news.ycombinator.com/item?id=20306195</a></p>\\n<p>Points: 1</p>\\n<p># Comments: 0</p>', 'summary_detail': {'type': 'text/html', 'language': None, 'base': 'https://hnrss.org/newest', 'value': '<p>Article URL: <a href=\"https://medium.com/@KevinHoffman/introducing-waxosuit-6ad754b48ed9\">https://medium.com/@KevinHoffman/introducing-waxosuit-6ad754b48ed9</a></p>\\n<p>Comments URL: <a href=\"https://news.ycombinator.com/item?id=20306195\">https://news.ycombinator.com/item?id=20306195</a></p>\\n<p>Points: 1</p>\\n<p># Comments: 0</p>'}, 'published': 'Fri, 28 Jun 2019 16:42:33 +0000', 'published_parsed': time.struct_time(tm_year=2019, tm_m\n"
     ]
    }
   ],
   "source": [
    "# Import post data from Hacker News RSS\n",
    "hnews = feedparser.parse('https://hnrss.org/newest')\n",
    "print(str(hnews)[0:2000])"
   ]
  },
  {
   "cell_type": "code",
   "execution_count": 4,
   "metadata": {},
   "outputs": [
    {
     "name": "stdout",
     "output_type": "stream",
     "text": [
      "Number of RSS posts : 20\n",
      "dict_keys(['title', 'title_detail', 'summary', 'summary_detail', 'published', 'published_parsed', 'links', 'link', 'authors', 'author', 'author_detail', 'comments', 'id', 'guidislink'])\n"
     ]
    }
   ],
   "source": [
    "hnews = feedparser.parse('https://hnrss.org/newest')\n",
    "print ('Number of RSS posts :', len(hnews.entries))\n",
    "\n",
    "entry = hnews.entries[1]\n",
    "print (entry.keys())"
   ]
  },
  {
   "cell_type": "code",
   "execution_count": 6,
   "metadata": {},
   "outputs": [
    {
     "data": {
      "text/plain": [
       "[['Approximate Causal Abstraction',\n",
       "  datetime.datetime(2019, 6, 28, 12, 30, 17),\n",
       "  'https://arxiv.org/abs/1906.11583',\n",
       "  'HNEWS'],\n",
       " ['Deep Learning from the Foundations',\n",
       "  datetime.datetime(2019, 6, 28, 12, 29, 17),\n",
       "  'https://www.fast.ai/2019/06/28/course-p2v3/',\n",
       "  'HNEWS'],\n",
       " [\"'DeafenYourPhone' – How to make sure your phone is not listening on you\",\n",
       "  datetime.datetime(2019, 6, 28, 12, 28, 54),\n",
       "  'https://arambartholl.com/blog/deafen-your-phone-how-to-make-sure-your-phone-is-not-listening-on-you/',\n",
       "  'HNEWS'],\n",
       " ['ORRB - Open AI Remote Rendering Back End',\n",
       "  datetime.datetime(2019, 6, 28, 12, 28, 46),\n",
       "  'https://github.com/openai/orrb',\n",
       "  'HNEWS'],\n",
       " ['Amazon, the New King of Shipping',\n",
       "  datetime.datetime(2019, 6, 28, 12, 28, 37),\n",
       "  'https://www.axios.com/amazon-shipping-chart-fedex-ups-usps-0dc6bab1-2169-42a8-9e56-0e85c590eb89.html',\n",
       "  'HNEWS']]"
      ]
     },
     "execution_count": 6,
     "metadata": {},
     "output_type": "execute_result"
    }
   ],
   "source": [
    "# Append all Hacker News posts to list of posts, 'data'\n",
    "for i in range(len(hnews.entries)):\n",
    "    pattern = \"%d %b %Y %H:%M:%S\"\n",
    "    time_posted = hnews.entries[i].updated.split(',')[1].strip()\n",
    "    time_posted = time_posted.split('+')[0].strip()\n",
    "    time_posted = datetime.datetime.strptime(time_posted, pattern)\n",
    "    time_posted = time_posted + timedelta(hours=-4)\n",
    "    data.append([hnews.entries[i].title, time_posted, hnews.entries[i].link, \"HNEWS\"])\n",
    "# Print last five entries\n",
    "data[-6:-1]"
   ]
  },
  {
   "cell_type": "code",
   "execution_count": 7,
   "metadata": {},
   "outputs": [
    {
     "data": {
      "text/html": [
       "<div>\n",
       "<style scoped>\n",
       "    .dataframe tbody tr th:only-of-type {\n",
       "        vertical-align: middle;\n",
       "    }\n",
       "\n",
       "    .dataframe tbody tr th {\n",
       "        vertical-align: top;\n",
       "    }\n",
       "\n",
       "    .dataframe thead th {\n",
       "        text-align: right;\n",
       "    }\n",
       "</style>\n",
       "<table border=\"1\" class=\"dataframe\">\n",
       "  <thead>\n",
       "    <tr style=\"text-align: right;\">\n",
       "      <th></th>\n",
       "      <th>Post Title</th>\n",
       "      <th>Time Posted</th>\n",
       "      <th>Link</th>\n",
       "      <th>Source</th>\n",
       "    </tr>\n",
       "  </thead>\n",
       "  <tbody>\n",
       "    <tr>\n",
       "      <th>0</th>\n",
       "      <td>Swamp Thing Double Feature Review</td>\n",
       "      <td>2019-06-28 12:45:16</td>\n",
       "      <td>https://www.reddit.com/r/movies/comments/c6mhc...</td>\n",
       "      <td>REDDIT</td>\n",
       "    </tr>\n",
       "    <tr>\n",
       "      <th>25</th>\n",
       "      <td>Waxosuit: A secure cloud native exosuit for WASM</td>\n",
       "      <td>2019-06-28 12:42:33</td>\n",
       "      <td>https://medium.com/@KevinHoffman/introducing-w...</td>\n",
       "      <td>HNEWS</td>\n",
       "    </tr>\n",
       "    <tr>\n",
       "      <th>26</th>\n",
       "      <td>Show HN: If Android had real rubber-banding</td>\n",
       "      <td>2019-06-28 12:41:14</td>\n",
       "      <td>https://twitter.com/matthaeus/status/114464303...</td>\n",
       "      <td>HNEWS</td>\n",
       "    </tr>\n",
       "    <tr>\n",
       "      <th>1</th>\n",
       "      <td>Final Trailer: “Hobbs &amp; Shaw”</td>\n",
       "      <td>2019-06-28 12:41:11</td>\n",
       "      <td>https://www.reddit.com/r/movies/comments/c6mfj...</td>\n",
       "      <td>REDDIT</td>\n",
       "    </tr>\n",
       "    <tr>\n",
       "      <th>27</th>\n",
       "      <td>Figuring out the future of distributed data sy...</td>\n",
       "      <td>2019-06-28 12:40:58</td>\n",
       "      <td>https://martin.kleppmann.com/2019/06/27/hydra-...</td>\n",
       "      <td>HNEWS</td>\n",
       "    </tr>\n",
       "    <tr>\n",
       "      <th>28</th>\n",
       "      <td>Time Protection – TS – Data61</td>\n",
       "      <td>2019-06-28 12:40:40</td>\n",
       "      <td>https://ts.data61.csiro.au/projects/TS/timingc...</td>\n",
       "      <td>HNEWS</td>\n",
       "    </tr>\n",
       "    <tr>\n",
       "      <th>29</th>\n",
       "      <td>Standards efforts aim to improve ability to ex...</td>\n",
       "      <td>2019-06-28 12:39:44</td>\n",
       "      <td>https://www.healthdatamanagement.com/news/stan...</td>\n",
       "      <td>HNEWS</td>\n",
       "    </tr>\n",
       "    <tr>\n",
       "      <th>30</th>\n",
       "      <td>Is Trump a Rapist?</td>\n",
       "      <td>2019-06-28 12:38:14</td>\n",
       "      <td>https://www.nytimes.com/2019/06/26/opinion/tru...</td>\n",
       "      <td>HNEWS</td>\n",
       "    </tr>\n",
       "    <tr>\n",
       "      <th>2</th>\n",
       "      <td>All these years later, The Sound Of Music rema...</td>\n",
       "      <td>2019-06-28 12:37:14</td>\n",
       "      <td>https://www.reddit.com/r/movies/comments/c6mdu...</td>\n",
       "      <td>REDDIT</td>\n",
       "    </tr>\n",
       "    <tr>\n",
       "      <th>31</th>\n",
       "      <td>Neo Kernel</td>\n",
       "      <td>2019-06-28 12:36:58</td>\n",
       "      <td>http://wiki.c2.com/?NeoKernel</td>\n",
       "      <td>HNEWS</td>\n",
       "    </tr>\n",
       "    <tr>\n",
       "      <th>32</th>\n",
       "      <td>How Big Mike, a Barbershop Painter, Broke into...</td>\n",
       "      <td>2019-06-28 12:35:58</td>\n",
       "      <td>https://www.nytimes.com/2019/06/28/nyregion/ho...</td>\n",
       "      <td>HNEWS</td>\n",
       "    </tr>\n",
       "    <tr>\n",
       "      <th>33</th>\n",
       "      <td>Essentialist Explanations (199x-2017)</td>\n",
       "      <td>2019-06-28 12:35:43</td>\n",
       "      <td>http://vrici.lojban.org/~cowan/essential.html</td>\n",
       "      <td>HNEWS</td>\n",
       "    </tr>\n",
       "    <tr>\n",
       "      <th>34</th>\n",
       "      <td>$499 AMD Ryzen 9 3900X Almost as Fast as $2000...</td>\n",
       "      <td>2019-06-28 12:35:20</td>\n",
       "      <td>https://www.techquila.co.in/amd-ryzen-9-3900x-...</td>\n",
       "      <td>HNEWS</td>\n",
       "    </tr>\n",
       "    <tr>\n",
       "      <th>35</th>\n",
       "      <td>Family domain name extension choices</td>\n",
       "      <td>2019-06-28 12:33:29</td>\n",
       "      <td>https://news.ycombinator.com/item?id=20306095</td>\n",
       "      <td>HNEWS</td>\n",
       "    </tr>\n",
       "    <tr>\n",
       "      <th>36</th>\n",
       "      <td>Device verification now required for login to ...</td>\n",
       "      <td>2019-06-28 12:32:51</td>\n",
       "      <td>https://twitter.com/probonopd/status/114462042...</td>\n",
       "      <td>HNEWS</td>\n",
       "    </tr>\n",
       "    <tr>\n",
       "      <th>37</th>\n",
       "      <td>How to Write the Perfect Postmortem Report</td>\n",
       "      <td>2019-06-28 12:32:07</td>\n",
       "      <td>https://usefyi.com/postmortem-report/</td>\n",
       "      <td>HNEWS</td>\n",
       "    </tr>\n",
       "    <tr>\n",
       "      <th>38</th>\n",
       "      <td>Matryoshka Doll</td>\n",
       "      <td>2019-06-28 12:32:01</td>\n",
       "      <td>https://en.wikipedia.org/wiki/Matryoshka_doll</td>\n",
       "      <td>HNEWS</td>\n",
       "    </tr>\n",
       "    <tr>\n",
       "      <th>39</th>\n",
       "      <td>Approximate Causal Abstraction</td>\n",
       "      <td>2019-06-28 12:30:17</td>\n",
       "      <td>https://arxiv.org/abs/1906.11583</td>\n",
       "      <td>HNEWS</td>\n",
       "    </tr>\n",
       "    <tr>\n",
       "      <th>40</th>\n",
       "      <td>Deep Learning from the Foundations</td>\n",
       "      <td>2019-06-28 12:29:17</td>\n",
       "      <td>https://www.fast.ai/2019/06/28/course-p2v3/</td>\n",
       "      <td>HNEWS</td>\n",
       "    </tr>\n",
       "    <tr>\n",
       "      <th>41</th>\n",
       "      <td>'DeafenYourPhone' – How to make sure your phon...</td>\n",
       "      <td>2019-06-28 12:28:54</td>\n",
       "      <td>https://arambartholl.com/blog/deafen-your-phon...</td>\n",
       "      <td>HNEWS</td>\n",
       "    </tr>\n",
       "  </tbody>\n",
       "</table>\n",
       "</div>"
      ],
      "text/plain": [
       "                                           Post Title         Time Posted  \\\n",
       "0                   Swamp Thing Double Feature Review 2019-06-28 12:45:16   \n",
       "25   Waxosuit: A secure cloud native exosuit for WASM 2019-06-28 12:42:33   \n",
       "26        Show HN: If Android had real rubber-banding 2019-06-28 12:41:14   \n",
       "1                       Final Trailer: “Hobbs & Shaw” 2019-06-28 12:41:11   \n",
       "27  Figuring out the future of distributed data sy... 2019-06-28 12:40:58   \n",
       "28                      Time Protection – TS – Data61 2019-06-28 12:40:40   \n",
       "29  Standards efforts aim to improve ability to ex... 2019-06-28 12:39:44   \n",
       "30                                 Is Trump a Rapist? 2019-06-28 12:38:14   \n",
       "2   All these years later, The Sound Of Music rema... 2019-06-28 12:37:14   \n",
       "31                                         Neo Kernel 2019-06-28 12:36:58   \n",
       "32  How Big Mike, a Barbershop Painter, Broke into... 2019-06-28 12:35:58   \n",
       "33              Essentialist Explanations (199x-2017) 2019-06-28 12:35:43   \n",
       "34  $499 AMD Ryzen 9 3900X Almost as Fast as $2000... 2019-06-28 12:35:20   \n",
       "35               Family domain name extension choices 2019-06-28 12:33:29   \n",
       "36  Device verification now required for login to ... 2019-06-28 12:32:51   \n",
       "37         How to Write the Perfect Postmortem Report 2019-06-28 12:32:07   \n",
       "38                                    Matryoshka Doll 2019-06-28 12:32:01   \n",
       "39                     Approximate Causal Abstraction 2019-06-28 12:30:17   \n",
       "40                 Deep Learning from the Foundations 2019-06-28 12:29:17   \n",
       "41  'DeafenYourPhone' – How to make sure your phon... 2019-06-28 12:28:54   \n",
       "\n",
       "                                                 Link  Source  \n",
       "0   https://www.reddit.com/r/movies/comments/c6mhc...  REDDIT  \n",
       "25  https://medium.com/@KevinHoffman/introducing-w...   HNEWS  \n",
       "26  https://twitter.com/matthaeus/status/114464303...   HNEWS  \n",
       "1   https://www.reddit.com/r/movies/comments/c6mfj...  REDDIT  \n",
       "27  https://martin.kleppmann.com/2019/06/27/hydra-...   HNEWS  \n",
       "28  https://ts.data61.csiro.au/projects/TS/timingc...   HNEWS  \n",
       "29  https://www.healthdatamanagement.com/news/stan...   HNEWS  \n",
       "30  https://www.nytimes.com/2019/06/26/opinion/tru...   HNEWS  \n",
       "2   https://www.reddit.com/r/movies/comments/c6mdu...  REDDIT  \n",
       "31                      http://wiki.c2.com/?NeoKernel   HNEWS  \n",
       "32  https://www.nytimes.com/2019/06/28/nyregion/ho...   HNEWS  \n",
       "33      http://vrici.lojban.org/~cowan/essential.html   HNEWS  \n",
       "34  https://www.techquila.co.in/amd-ryzen-9-3900x-...   HNEWS  \n",
       "35      https://news.ycombinator.com/item?id=20306095   HNEWS  \n",
       "36  https://twitter.com/probonopd/status/114462042...   HNEWS  \n",
       "37              https://usefyi.com/postmortem-report/   HNEWS  \n",
       "38      https://en.wikipedia.org/wiki/Matryoshka_doll   HNEWS  \n",
       "39                   https://arxiv.org/abs/1906.11583   HNEWS  \n",
       "40        https://www.fast.ai/2019/06/28/course-p2v3/   HNEWS  \n",
       "41  https://arambartholl.com/blog/deafen-your-phon...   HNEWS  "
      ]
     },
     "execution_count": 7,
     "metadata": {},
     "output_type": "execute_result"
    }
   ],
   "source": [
    "import pandas as pd\n",
    "\n",
    "# Convert list of posts to pandas DataFrame, sorted by newest posts\n",
    "column_names = [\"Post Title\", \"Time Posted\", \"Link\", \"Source\"]\n",
    "df = pd.DataFrame(data, columns=column_names)\n",
    "df = df.sort_values(by=[\"Time Posted\"], ascending=False)\n",
    "# Print first 20 entries\n",
    "df.head(20)"
   ]
  },
  {
   "cell_type": "code",
   "execution_count": null,
   "metadata": {},
   "outputs": [],
   "source": []
  }
 ],
 "metadata": {
  "kernelspec": {
   "display_name": "Python 3",
   "language": "python",
   "name": "python3"
  },
  "language_info": {
   "codemirror_mode": {
    "name": "ipython",
    "version": 3
   },
   "file_extension": ".py",
   "mimetype": "text/x-python",
   "name": "python",
   "nbconvert_exporter": "python",
   "pygments_lexer": "ipython3",
   "version": "3.7.3"
  }
 },
 "nbformat": 4,
 "nbformat_minor": 2
}
